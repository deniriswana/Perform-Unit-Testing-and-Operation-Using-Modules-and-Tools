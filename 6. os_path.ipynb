{
  "nbformat": 4,
  "nbformat_minor": 0,
  "metadata": {
    "colab": {
      "name": "os.path.ipynb",
      "provenance": []
    },
    "kernelspec": {
      "name": "python3",
      "display_name": "Python 3"
    },
    "language_info": {
      "name": "python"
    }
  },
  "cells": [
    {
      "cell_type": "markdown",
      "source": [
        "## os.path"
      ],
      "metadata": {
        "id": "AP7BseiqMBkc"
      }
    },
    {
      "cell_type": "markdown",
      "source": [
        "- The module called os contains functions to get information on local directories, files, processes, and environment variables.\n",
        "- os.path module is sub module of OS module in Python used for common path name manipulation.\n",
        "- os.path.isfile() method in Python is used to check whether the specified path is an existing regular file or not."
      ],
      "metadata": {
        "id": "wdzYLDsjLa44"
      }
    },
    {
      "cell_type": "code",
      "execution_count": null,
      "metadata": {
        "id": "l1LsGpIh6Iq6",
        "colab": {
          "base_uri": "https://localhost:8080/"
        },
        "outputId": "e205e068-4af4-4cc6-b9d5-b2838709a0bc"
      },
      "outputs": [
        {
          "name": "stdout",
          "output_type": "stream",
          "text": [
            "What do you want to write to the log?The best mentor is kak Ti\n"
          ]
        }
      ],
      "source": [
        "import os\n",
        "if os.path.isfile('log.txt'):\n",
        "    writefile = open('log.txt', 'a')\n",
        "else:\n",
        "    writefile = open('log.txt', 'w')\n",
        "\n",
        "tolog = input('What do you want to write to the log?')\n",
        "writefile.write(\"\\n\" + tolog)\n",
        "writefile.close()"
      ]
    },
    {
      "cell_type": "code",
      "source": [
        "import os\n",
        "if os.path.isfile('dream.txt'):\n",
        "    writefile = open('dream.txt', 'a')\n",
        "else:\n",
        "    writefile = open('dream.txt', 'w')\n",
        "\n",
        "dream = input('What do you want to write to the dream?')\n",
        "writefile.write(\"\\n\" +\"\\n\" +\"\\n\" +\"\\n\" +\"\\n\" + dream)   #to place it in row 3\n",
        "writefile.close()"
      ],
      "metadata": {
        "colab": {
          "base_uri": "https://localhost:8080/"
        },
        "id": "ivaIPWgZyZTs",
        "outputId": "5b458b68-16a7-4e37-eab8-ae0563d9fd58"
      },
      "execution_count": null,
      "outputs": [
        {
          "name": "stdout",
          "output_type": "stream",
          "text": [
            "What do you want to write to the dream?learn and try to grow everyday as a person\n"
          ]
        }
      ]
    }
  ]
}