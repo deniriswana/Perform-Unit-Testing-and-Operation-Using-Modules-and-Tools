{
  "nbformat": 4,
  "nbformat_minor": 0,
  "metadata": {
    "colab": {
      "name": "Definition Function.ipynb.txt",
      "provenance": [],
      "collapsed_sections": []
    },
    "kernelspec": {
      "name": "python3",
      "display_name": "Python 3"
    },
    "language_info": {
      "name": "python"
    }
  },
  "cells": [
    {
      "cell_type": "markdown",
      "source": [
        "Function \n",
        "\n",
        ". In mathematics, a function is a process that balances between an input (input) and an output (output). \n",
        "\n",
        "• In Python, apart from relational functions, functions are also a way to organize reusable code. \n",
        "\n",
        "code-with the end goal \n",
        "\n",
        ". It's best if a function has only one specific use but can be reused Python's common functions are provided. \n",
        "\n",
        "• But we can always define our own function."
      ],
      "metadata": {
        "id": "o_ejdBXx9A05"
      }
    },
    {
      "cell_type": "markdown",
      "source": [
        "Define function \n",
        "\n",
        "• Functions are defined with the del keyword followed by the name of the function and its parameters in brackets () \n",
        "\n",
        ". Optionally, you can add a documentation string that describes the context of the function.\n",
        "\n",
        " • The code block in each function starts with a colon and is indented\n",
        "\n",
        " • The function stops when a return statement (expression) returns an expression to the caller \n",
        "\n",
        ". You can also make the function return no output by returning None."
      ],
      "metadata": {
        "id": "sZsUxqO-9L-c"
      }
    },
    {
      "cell_type": "code",
      "execution_count": null,
      "metadata": {
        "id": "O0q47V9m8rTk"
      },
      "outputs": [],
      "source": [
        "def pangkat (x):\n",
        "    kuadrat = x**2 #fungsi pangkat dua\n",
        "    return kuadrat"
      ]
    },
    {
      "cell_type": "code",
      "source": [
        "pangkat (3)"
      ],
      "metadata": {
        "colab": {
          "base_uri": "https://localhost:8080/"
        },
        "id": "795qNdn-97kN",
        "outputId": "56e17f9e-a89f-48f0-dd20-71c374078d3f"
      },
      "execution_count": null,
      "outputs": [
        {
          "output_type": "execute_result",
          "data": {
            "text/plain": [
              "9"
            ]
          },
          "metadata": {},
          "execution_count": 2
        }
      ]
    },
    {
      "cell_type": "code",
      "source": [
        "def pangkat (x):\n",
        "    kuadrat = x**2 #fungsi pangkat dua\n",
        "    print (kuadrat)"
      ],
      "metadata": {
        "id": "MdGdoI4a99rv"
      },
      "execution_count": null,
      "outputs": []
    },
    {
      "cell_type": "code",
      "source": [
        "pangkat (3)"
      ],
      "metadata": {
        "colab": {
          "base_uri": "https://localhost:8080/"
        },
        "id": "5icauqrB-N-J",
        "outputId": "e295b0b3-6c14-4cd7-dfd3-188b29d655a1"
      },
      "execution_count": null,
      "outputs": [
        {
          "output_type": "stream",
          "name": "stdout",
          "text": [
            "9\n"
          ]
        }
      ]
    },
    {
      "cell_type": "code",
      "source": [
        "def pangkat (x):\n",
        "    kuadrat = x**2 #fungsi pangkat dua\n",
        "    return"
      ],
      "metadata": {
        "id": "ChIKXVrO-P8V"
      },
      "execution_count": null,
      "outputs": []
    },
    {
      "cell_type": "code",
      "source": [
        "pangkat (3)"
      ],
      "metadata": {
        "id": "Q7ZRJcgU-XhZ"
      },
      "execution_count": null,
      "outputs": []
    },
    {
      "cell_type": "markdown",
      "source": [
        "By default, Python will position each parameter in the order in which it was registered at the time it was defined, and must be called in that order."
      ],
      "metadata": {
        "id": "7ldmTPL_-ix6"
      }
    },
    {
      "cell_type": "code",
      "source": [
        "def nama(x):\n",
        "    halo = \"Hai {}\".format(x)\n",
        "    return halo"
      ],
      "metadata": {
        "id": "H7T3fFSO-iW0"
      },
      "execution_count": null,
      "outputs": []
    },
    {
      "cell_type": "code",
      "source": [
        "nama (\"Yusuf\")"
      ],
      "metadata": {
        "colab": {
          "base_uri": "https://localhost:8080/",
          "height": 35
        },
        "id": "oo4382YV-3vS",
        "outputId": "0e546af0-d381-48c6-b527-110de427e99f"
      },
      "execution_count": null,
      "outputs": [
        {
          "output_type": "execute_result",
          "data": {
            "text/plain": [
              "'Hai Yusuf'"
            ],
            "application/vnd.google.colaboratory.intrinsic+json": {
              "type": "string"
            }
          },
          "metadata": {},
          "execution_count": 9
        }
      ]
    },
    {
      "cell_type": "code",
      "source": [
        "nama (\"Soe Dal Mi\")"
      ],
      "metadata": {
        "colab": {
          "base_uri": "https://localhost:8080/",
          "height": 35
        },
        "id": "8SRwfbP0-7O5",
        "outputId": "bb0536b1-4f32-4a37-a4c1-2cff5ef1b8d7"
      },
      "execution_count": null,
      "outputs": [
        {
          "output_type": "execute_result",
          "data": {
            "text/plain": [
              "'Hai Soe Dal Mi'"
            ],
            "application/vnd.google.colaboratory.intrinsic+json": {
              "type": "string"
            }
          },
          "metadata": {},
          "execution_count": 10
        }
      ]
    },
    {
      "cell_type": "code",
      "source": [
        "def hobby(x):\n",
        "    hob = \"My Hobby is {}\".format(x)\n",
        "    return hob"
      ],
      "metadata": {
        "id": "58jEmNou_Azy"
      },
      "execution_count": null,
      "outputs": []
    },
    {
      "cell_type": "code",
      "source": [
        "hobby(\"Watching Movie\")"
      ],
      "metadata": {
        "colab": {
          "base_uri": "https://localhost:8080/",
          "height": 35
        },
        "id": "_1vHP9gv_l_n",
        "outputId": "696b96d5-3cbd-4c4b-8401-ecbb2105e3bc"
      },
      "execution_count": null,
      "outputs": [
        {
          "output_type": "execute_result",
          "data": {
            "text/plain": [
              "'My Hobby is Watching Movie'"
            ],
            "application/vnd.google.colaboratory.intrinsic+json": {
              "type": "string"
            }
          },
          "metadata": {},
          "execution_count": 22
        }
      ]
    },
    {
      "cell_type": "code",
      "source": [
        "def hobby (x):\n",
        "    hob = X\n",
        "    return hob"
      ],
      "metadata": {
        "id": "WVHL0cBq_rSW"
      },
      "execution_count": null,
      "outputs": []
    },
    {
      "cell_type": "markdown",
      "source": [
        "The return [expression statement will make program execution exit the current function, while returning a specified value."
      ],
      "metadata": {
        "id": "9YFLI0PMAg1B"
      }
    },
    {
      "cell_type": "code",
      "source": [
        "def tambah(x,y):\n",
        "     plus = x + y # fungsi penjumlahan.\n",
        "     print(\"Hasil penjumlahan adalah {}\".format(plus))"
      ],
      "metadata": {
        "id": "BRwC3ZRZAmFk"
      },
      "execution_count": null,
      "outputs": []
    },
    {
      "cell_type": "code",
      "source": [
        "tambah (2, 3)"
      ],
      "metadata": {
        "colab": {
          "base_uri": "https://localhost:8080/"
        },
        "id": "o1ql4zJ7A_Qx",
        "outputId": "79c905d9-0433-4e0d-9423-3546dd617858"
      },
      "execution_count": null,
      "outputs": [
        {
          "output_type": "stream",
          "name": "stdout",
          "text": [
            "Hasil penjumlahan adalah 5\n"
          ]
        }
      ]
    },
    {
      "cell_type": "markdown",
      "source": [
        "• The return value of a function can be stored in a variable. \n",
        "\n",
        "• This will distinguish a function that returns a value from a function that does not return a value (often referred to as a procedure)."
      ],
      "metadata": {
        "id": "DjOzfjUBBhh7"
      }
    },
    {
      "cell_type": "code",
      "source": [
        "def pangkat(x):\n",
        "    kuadrat = x**2 #fungsi pangkat dua\n",
        "    return kuadrat"
      ],
      "metadata": {
        "id": "gNgJ1XpnBT3D"
      },
      "execution_count": null,
      "outputs": []
    },
    {
      "cell_type": "code",
      "source": [
        "pangkat (4)"
      ],
      "metadata": {
        "colab": {
          "base_uri": "https://localhost:8080/"
        },
        "id": "FgYl1JcqBrv_",
        "outputId": "eb38fcec-66a2-4c4f-8e53-12bab8e78836"
      },
      "execution_count": null,
      "outputs": [
        {
          "output_type": "execute_result",
          "data": {
            "text/plain": [
              "16"
            ]
          },
          "metadata": {},
          "execution_count": 34
        }
      ]
    },
    {
      "cell_type": "code",
      "source": [
        "angka = int(input().strip())\n",
        "hasil = pangkat (angka)\n",
        "print(\"hasilnya adalah {}\".format(hasil))"
      ],
      "metadata": {
        "id": "n0wg4cg5Bw_S"
      },
      "execution_count": null,
      "outputs": []
    },
    {
      "cell_type": "markdown",
      "source": [
        "Pass by reference vs value\n",
        "\n",
        " All parameters (arguments) in Python   are \"passed by reference\". \n",
        "\n",
        ". This means that when we change a variable, the data that refers to it will also change, both inside the function and outside the calling function. \n",
        "\n",
        "• Unless we perform assignment operations that will change the reference parameter."
      ],
      "metadata": {
        "id": "FhHDeBZqCKYJ"
      }
    },
    {
      "cell_type": "code",
      "source": [
        "def rubah(daftar_list):\n",
        "    daftar_list.append([3,4])\n",
        "    print(\"Nilai dalam fungsi adalah {}\".format(daftar_list))"
      ],
      "metadata": {
        "id": "YIlhI9IwCGFZ"
      },
      "execution_count": null,
      "outputs": []
    },
    {
      "cell_type": "code",
      "source": [
        "daftar_list = [5, 6]\n",
        "rubah(daftar_list)\n",
        "\n",
        "print(\"Nilai dalam fungsi adalah {}\".format(daftar_list))"
      ],
      "metadata": {
        "colab": {
          "base_uri": "https://localhost:8080/"
        },
        "id": "xkJ4IJ9aDsQR",
        "outputId": "8896aa96-84cf-40c3-d107-56a073c9a54b"
      },
      "execution_count": null,
      "outputs": [
        {
          "output_type": "stream",
          "name": "stdout",
          "text": [
            "Nilai dalam fungsi adalah [5, 6, [3, 4]]\n",
            "Nilai dalam fungsi adalah [5, 6, [3, 4]]\n"
          ]
        }
      ]
    },
    {
      "cell_type": "markdown",
      "source": [
        "But we have to be careful because assigning variable named same as parameter, means creating a new variable in local scope and not related to global variable."
      ],
      "metadata": {
        "id": "zHi_hY_GE5jG"
      }
    },
    {
      "cell_type": "code",
      "source": [
        "def rubah(daftar_list):\n",
        "    daftar_list = [3,4] \n",
        "    print(\"Nilai dalam fungsi adalah {}\".format(daftar_list))"
      ],
      "metadata": {
        "id": "wqHssYeVEnwM"
      },
      "execution_count": null,
      "outputs": []
    },
    {
      "cell_type": "code",
      "source": [
        "daftar_list = [5,6]\n",
        "rubah(daftar_list)\n",
        "print(\"Nilai di luar fungsi adalah {}\".format(daftar_list))"
      ],
      "metadata": {
        "colab": {
          "base_uri": "https://localhost:8080/"
        },
        "id": "BMNR5shGFD8w",
        "outputId": "e6597b85-a72f-4b99-e65e-1f99e963e42f"
      },
      "execution_count": null,
      "outputs": [
        {
          "output_type": "stream",
          "name": "stdout",
          "text": [
            "Nilai dalam fungsi adalah [3, 4]\n",
            "Nilai di luar fungsi adalah [5, 6]\n"
          ]
        }
      ]
    }
  ]
}