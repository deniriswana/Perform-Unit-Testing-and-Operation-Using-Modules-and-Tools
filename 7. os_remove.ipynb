{
  "nbformat": 4,
  "nbformat_minor": 0,
  "metadata": {
    "colab": {
      "name": "os.remove.ipynb",
      "provenance": []
    },
    "kernelspec": {
      "name": "python3",
      "display_name": "Python 3"
    },
    "language_info": {
      "name": "python"
    }
  },
  "cells": [
    {
      "cell_type": "markdown",
      "source": [
        "##delete with os.remove()"
      ],
      "metadata": {
        "id": "4iM3Q3aZN2OZ"
      }
    },
    {
      "cell_type": "markdown",
      "source": [
        "os.remove() method in Python is used to remove or delete a file path. This method can not remove or delete a directory. "
      ],
      "metadata": {
        "id": "dPGjOTmydMXg"
      }
    },
    {
      "cell_type": "code",
      "execution_count": null,
      "metadata": {
        "id": "HjxrxCqo1Cva"
      },
      "outputs": [],
      "source": [
        "import os"
      ]
    },
    {
      "cell_type": "code",
      "source": [
        "if os.path.isfile('log_old.txt'):\n",
        "  os.remove('log_old.txt')\n",
        "  print('the log_old file has been removed')\n",
        "else:\n",
        "  print('there was no log_old file has been removed')"
      ],
      "metadata": {
        "colab": {
          "base_uri": "https://localhost:8080/"
        },
        "id": "O46IgNq71IhN",
        "outputId": "c3498802-a39f-4e0d-a4d8-951c6cfdc9c5"
      },
      "execution_count": null,
      "outputs": [
        {
          "output_type": "stream",
          "name": "stdout",
          "text": [
            "there was no log_old file has been removed\n"
          ]
        }
      ]
    },
    {
      "cell_type": "code",
      "source": [
        "import os\n",
        "if os.path.isfile('dream.txt'):\n",
        "  os.remove('dream.txt')\n",
        "  print('the dream file has been removed')\n",
        "else:\n",
        "  print('there was no dream file has been removed')"
      ],
      "metadata": {
        "colab": {
          "base_uri": "https://localhost:8080/"
        },
        "id": "MHoAvKba2A5Q",
        "outputId": "6893f207-7170-408f-f733-f6986769ef03"
      },
      "execution_count": null,
      "outputs": [
        {
          "output_type": "stream",
          "name": "stdout",
          "text": [
            "the dream file has been removed\n"
          ]
        }
      ]
    }
  ]
}