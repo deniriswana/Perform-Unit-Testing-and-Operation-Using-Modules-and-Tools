{
  "nbformat": 4,
  "nbformat_minor": 0,
  "metadata": {
    "colab": {
      "name": "txt file-open,read,close.ipynb",
      "provenance": []
    },
    "kernelspec": {
      "name": "python3",
      "display_name": "Python 3"
    },
    "language_info": {
      "name": "python"
    }
  },
  "cells": [
    {
      "cell_type": "markdown",
      "source": [
        "## open"
      ],
      "metadata": {
        "id": "A7sjBn7JMRqU"
      }
    },
    {
      "cell_type": "markdown",
      "source": [
        "- Opening a file refers to getting the file ready either for reading or for writing. \n",
        "- This can be done using the open() function. \n",
        "- This function returns a file object and takes two arguments, one that accepts the file name and another that accepts the mode(Access Mode).\n",
        "- The file should exist in the same directory as the Python script, otherwise, full address of the file should be written."
      ],
      "metadata": {
        "id": "Si8Q-oekMwrp"
      }
    },
    {
      "cell_type": "code",
      "source": [
        "import os"
      ],
      "metadata": {
        "id": "Ao4BDnAaPXKA"
      },
      "execution_count": null,
      "outputs": []
    },
    {
      "cell_type": "markdown",
      "source": [
        "we will be opening a file to read-only."
      ],
      "metadata": {
        "id": "TdkIKP8yQo22"
      }
    },
    {
      "cell_type": "code",
      "execution_count": null,
      "metadata": {
        "id": "3scgigoSxSYU"
      },
      "outputs": [],
      "source": [
        "import os\n",
        "#open the file using open() function\n",
        "data = open('heedo.txt', 'r')"
      ]
    },
    {
      "cell_type": "markdown",
      "source": [
        "##read"
      ],
      "metadata": {
        "id": "aJG4FiRxRHe5"
      }
    },
    {
      "cell_type": "markdown",
      "source": [
        "The read() function reads from an open file."
      ],
      "metadata": {
        "id": "kSpIP2RgSjBt"
      }
    },
    {
      "cell_type": "code",
      "source": [
        "# Reading from file\n",
        "print(data.read())"
      ],
      "metadata": {
        "colab": {
          "base_uri": "https://localhost:8080/"
        },
        "id": "WwA9ZjQQROoZ",
        "outputId": "52adc475-a58f-4fa3-cbd5-e7af3dee08d6"
      },
      "execution_count": null,
      "outputs": [
        {
          "output_type": "stream",
          "name": "stdout",
          "text": [
            "Name, Na Hee-Do\n",
            "Age, 21\n",
            "Profession, Fencing Atlet\n"
          ]
        }
      ]
    },
    {
      "cell_type": "markdown",
      "source": [
        "The readlines() method returns a list containing each line in the file as a list item."
      ],
      "metadata": {
        "id": "63kY9_3pYR4x"
      }
    },
    {
      "cell_type": "code",
      "source": [
        "f = open(\"heedo.txt\", \"r\")\n",
        "print(f.readlines())"
      ],
      "metadata": {
        "colab": {
          "base_uri": "https://localhost:8080/"
        },
        "id": "kf0jNvLLX8Hr",
        "outputId": "8c59d48e-6455-4cb9-8d0a-0259d16948f9"
      },
      "execution_count": null,
      "outputs": [
        {
          "output_type": "stream",
          "name": "stdout",
          "text": [
            "['Name, Na Hee-Do\\n', 'Age, 21\\n', 'Profession, Fencing Atlet']\n"
          ]
        }
      ]
    },
    {
      "cell_type": "markdown",
      "source": [
        "##close"
      ],
      "metadata": {
        "id": "1Cf1wMGFyjCG"
      }
    },
    {
      "cell_type": "markdown",
      "source": [
        "- It is a standard practice to close an opened file as a closed file reduces the risk of being unwarrantedly modified or read.\n",
        "- The close() method can be called more than once and if any operation is performed on a closed file it raises a ValueError. "
      ],
      "metadata": {
        "id": "w3VIAnvLSNHv"
      }
    },
    {
      "cell_type": "code",
      "source": [
        "# closing the file\n",
        "data.close()"
      ],
      "metadata": {
        "id": "qQq5ILdbTnLZ"
      },
      "execution_count": null,
      "outputs": []
    }
  ]
}