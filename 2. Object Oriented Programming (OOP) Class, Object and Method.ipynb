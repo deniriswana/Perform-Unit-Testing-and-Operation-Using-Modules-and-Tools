{
  "nbformat": 4,
  "nbformat_minor": 0,
  "metadata": {
    "colab": {
      "name": "(4 April) 1. Pengenalan_Pemograman_Beriorentasi_Objek_(oop)_Class,_objek_dan_method.ipynb",
      "provenance": []
    },
    "kernelspec": {
      "name": "python3",
      "display_name": "Python 3"
    },
    "language_info": {
      "name": "python"
    }
  },
  "cells": [
    {
      "cell_type": "markdown",
      "source": [
        "\n",
        "# Class\n",
        "\n",
        "The definition of a class uses the class syntax as well as the definition of a function that uses the def syntax, then needs to be called (executed) before it can be used and has an effect on the program.\n",
        "\n",
        "Object (object: an instance of a class)\n",
        "\n",
        "* Instantion of a class, using function notation i.e. with less opening then closing parenthesis, will produce an object\n",
        "\n",
        "* Then the result of this Instantion is usually stored in a variable with a representative name\n",
        "\n",
        "\n",
        "# Method\n",
        "\n",
        "A method in English is called a method, is a special function that belongs to an object, namely the result of instantiation of the class.\n",
        "\n",
        "* In Python, this special function or method as constructor is named init or commonly pronounced as \"Double underscore init\"\n",
        "\n",
        "* The first argument of a method in a class is usually given the name self by a naming convention or standard, although you can also use other names. Even in python there is no special meaning about this self syntax, but it is highly recommended to use this conversion so that the python program you create will be more easily understood by other programs\n",
        "\n",
        "* As you might have guessed, for a method, it is previously passed an object (result of an instance of a class) as its first argument, in this case named self\n",
        "\n",
        "Method of object(object method)\n",
        "\n",
        "* In general, a method is a special function that belongs to an object, i.e. the result of an instantiation of a class"
      ],
      "metadata": {
        "id": "TbAGVD8-1tub"
      }
    },
    {
      "cell_type": "code",
      "execution_count": null,
      "metadata": {
        "id": "ZUPdkvS1vWbJ"
      },
      "outputs": [],
      "source": [
        "class kalkulator:\n",
        "    def __init__(self, number1, number2):\n",
        "       self.number1 = number1\n",
        "       self.number2 = number2\n",
        "    def increase  (self):\n",
        "      self.plus = self.number1 + self.number2\n",
        "      return self.plus  "
      ]
    },
    {
      "cell_type": "code",
      "source": [
        "calculateresults = kalkulator(\"number1\", \"number2\")"
      ],
      "metadata": {
        "id": "EEhrTnDyxKSt"
      },
      "execution_count": null,
      "outputs": []
    },
    {
      "cell_type": "code",
      "source": [
        "calculateresults = kalkulator(3,4)"
      ],
      "metadata": {
        "id": "Y-2e92AKxpsD"
      },
      "execution_count": null,
      "outputs": []
    },
    {
      "cell_type": "code",
      "source": [
        "calculateresults.increase()"
      ],
      "metadata": {
        "colab": {
          "base_uri": "https://localhost:8080/"
        },
        "id": "vfUtfAfKxuNU",
        "outputId": "b3ee6672-31ff-4ee1-c20f-0a4a0e8823ce"
      },
      "execution_count": null,
      "outputs": [
        {
          "output_type": "execute_result",
          "data": {
            "text/plain": [
              "7"
            ]
          },
          "metadata": {},
          "execution_count": 12
        }
      ]
    },
    {
      "cell_type": "code",
      "source": [
        "kalkulator.increase (calculateresults)"
      ],
      "metadata": {
        "colab": {
          "base_uri": "https://localhost:8080/"
        },
        "id": "VBTXxyrpx7A6",
        "outputId": "9ab01461-f3dd-4b1d-c1ca-41d64ca3ae4d"
      },
      "execution_count": null,
      "outputs": [
        {
          "output_type": "execute_result",
          "data": {
            "text/plain": [
              "7"
            ]
          },
          "metadata": {},
          "execution_count": 13
        }
      ]
    },
    {
      "cell_type": "code",
      "execution_count": null,
      "metadata": {
        "id": "8LLvnV3W0ZWH"
      },
      "outputs": [],
      "source": [
        "class kalkulatoor:\n",
        "    def __init__(self, number1, number2):\n",
        "       self.number1 = number1\n",
        "       self.number2 = number2\n",
        "    def multiplication (self):\n",
        "      self.multiplication = self.number1 * self.number2\n",
        "      return self.multiplication  "
      ]
    },
    {
      "cell_type": "code",
      "source": [
        "calculateresults = kalkulatoor(\"number1\", \"number2\")"
      ],
      "metadata": {
        "id": "j3gkj0gf0x5k"
      },
      "execution_count": null,
      "outputs": []
    },
    {
      "cell_type": "code",
      "source": [
        "calculateresults = kalkulatoor(2,2)"
      ],
      "metadata": {
        "id": "atmDfedE02OL"
      },
      "execution_count": null,
      "outputs": []
    },
    {
      "cell_type": "code",
      "source": [
        "calculateresults.multiplication()"
      ],
      "metadata": {
        "colab": {
          "base_uri": "https://localhost:8080/"
        },
        "outputId": "e5192f49-47ad-4f96-f7d2-d47c1de5e396",
        "id": "sDBSjchH1I_r"
      },
      "execution_count": null,
      "outputs": [
        {
          "output_type": "execute_result",
          "data": {
            "text/plain": [
              "4"
            ]
          },
          "metadata": {},
          "execution_count": 17
        }
      ]
    },
    {
      "cell_type": "code",
      "source": [
        "kalkulatoor.multiplication(calculateresults)"
      ],
      "metadata": {
        "colab": {
          "base_uri": "https://localhost:8080/"
        },
        "id": "JiZb6bW81GM1",
        "outputId": "80bc09f2-2171-4372-866b-d5a4301df101"
      },
      "execution_count": null,
      "outputs": [
        {
          "output_type": "execute_result",
          "data": {
            "text/plain": [
              "4"
            ]
          },
          "metadata": {},
          "execution_count": 18
        }
      ]
    },
    {
      "cell_type": "markdown",
      "source": [
        "Method of class (class method)\n",
        "\n",
        "* Class Method is a function that converts a method into a method of the class (class method). In its use, this function is used as the @classmethod decorator function, then the call can be directly from the defined class or through the object.\n",
        "\n",
        "* The method of (class method) accepts input from the class implicitly as the first argument which is conventionally named cls"
      ],
      "metadata": {
        "id": "rhZEqSSY_MRo"
      }
    },
    {
      "cell_type": "code",
      "source": [
        "class kalkulator:\n",
        "    def __init__(self, number1, number2):\n",
        "       self.number1 = number1\n",
        "       self.number2 = number2\n",
        "       \n",
        "    @classmethod\n",
        "    def add_number (cls, number1, number2):\n",
        "      cls.plusnumber = number1 + number2\n",
        "      return cls.plusnumber"
      ],
      "metadata": {
        "id": "WaEZmegZ2pw8"
      },
      "execution_count": null,
      "outputs": []
    },
    {
      "cell_type": "code",
      "source": [
        "calculateresults  = kalkulator(\"number1\", \"number2\")"
      ],
      "metadata": {
        "id": "PVUBSSE53it8"
      },
      "execution_count": null,
      "outputs": []
    },
    {
      "cell_type": "code",
      "source": [
        "calculateresults .add_number(1,2)"
      ],
      "metadata": {
        "colab": {
          "base_uri": "https://localhost:8080/"
        },
        "id": "TPHGY5wj3pNM",
        "outputId": "f2b3eaee-92d6-4917-eb8a-4b27882b4f86"
      },
      "execution_count": null,
      "outputs": [
        {
          "output_type": "execute_result",
          "data": {
            "text/plain": [
              "3"
            ]
          },
          "metadata": {},
          "execution_count": 25
        }
      ]
    },
    {
      "cell_type": "markdown",
      "source": [
        "static method (static method)\n",
        "\n",
        "* static method is a function that converts a method into a static method (static method). In its use, this function is used as a @staticmethod decorater function, then the call can be directly from the defined class or through the object.\n",
        "\n",
        "* Static method (static method) does not accept the input of the first argument implicitly"
      ],
      "metadata": {
        "id": "IoEA08aztCPU"
      }
    },
    {
      "cell_type": "code",
      "source": [
        "class kalkulator:\n",
        "\n",
        "    def __init__(self, number1, number2):\n",
        "       self.number1 = number1\n",
        "       self.number2 = number2\n",
        "       \n",
        "    @staticmethod\n",
        "    def addition (number1, number2):\n",
        "      Total = number1 + number2\n",
        "      return Total"
      ],
      "metadata": {
        "id": "tYZiCnKX6s2D"
      },
      "execution_count": null,
      "outputs": []
    },
    {
      "cell_type": "code",
      "source": [
        "calculateresults = kalkulator.addition(4,2)"
      ],
      "metadata": {
        "id": "UdJnZxYn9LWz"
      },
      "execution_count": null,
      "outputs": []
    },
    {
      "cell_type": "code",
      "source": [
        "print(calculateresults)"
      ],
      "metadata": {
        "colab": {
          "base_uri": "https://localhost:8080/"
        },
        "id": "cKmmY6lN_gpw",
        "outputId": "327cb8bd-713b-4056-dfc8-007a7afbf1ea"
      },
      "execution_count": null,
      "outputs": [
        {
          "output_type": "stream",
          "name": "stdout",
          "text": [
            "3\n"
          ]
        }
      ]
    },
    {
      "cell_type": "code",
      "source": [
        "for a in range(1,32):\n",
        "  if a%2==0:\n",
        "    print(\"Even date is\",a)\n",
        "  else:\n",
        "    if (a in [b for b in range(11)]):\n",
        "     print(\"Young Odd Date is\",a)\n",
        "    if (a in [b for b in range(11,21)]):\n",
        "     print(\"Middle Odd date is\",a)\n",
        "    elif (a in [b for b in range(11,21)]):\n",
        "     print(\"Old Odd date is\",a)"
      ],
      "metadata": {
        "colab": {
          "base_uri": "https://localhost:8080/"
        },
        "id": "iwse5PfKJ0yj",
        "outputId": "bb0910fe-b6e3-487d-e2a8-75c01f7c4b84"
      },
      "execution_count": null,
      "outputs": [
        {
          "output_type": "stream",
          "name": "stdout",
          "text": [
            "Young Odd Date is 1\n",
            "Even date is 2\n",
            "Young Odd Date is 3\n",
            "Even date is 4\n",
            "Young Odd Date is 5\n",
            "Even date is 6\n",
            "Young Odd Date is 7\n",
            "Even date is 8\n",
            "Young Odd Date is 9\n",
            "Even date is 10\n",
            "Middle Odd date is 11\n",
            "Even date is 12\n",
            "Middle Odd date is 13\n",
            "Even date is 14\n",
            "Middle Odd date is 15\n",
            "Even date is 16\n",
            "Middle Odd date is 17\n",
            "Even date is 18\n",
            "Middle Odd date is 19\n",
            "Even date is 20\n",
            "Even date is 22\n",
            "Even date is 24\n",
            "Even date is 26\n",
            "Even date is 28\n",
            "Even date is 30\n"
          ]
        }
      ]
    }
  ]
}