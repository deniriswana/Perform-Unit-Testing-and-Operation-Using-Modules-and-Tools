{
  "nbformat": 4,
  "nbformat_minor": 0,
  "metadata": {
    "colab": {
      "name": "io.ipynb",
      "provenance": []
    },
    "kernelspec": {
      "name": "python3",
      "display_name": "Python 3"
    },
    "language_info": {
      "name": "python"
    }
  },
  "cells": [
    {
      "cell_type": "markdown",
      "source": [
        "##io module"
      ],
      "metadata": {
        "id": "DNw0WB2SNqjZ"
      }
    },
    {
      "cell_type": "markdown",
      "source": [
        "- io module is quite useful when you want to perform file-related I/O operations (eg. file reading/writing)\n",
        "\n",
        "- While you can use the normal read() and write() methods to read/write to a file, this module gives us a lot more flexibility regarding these operations.\n",
        "\n",
        "\n"
      ],
      "metadata": {
        "id": "3YoZ66H1cLz9"
      }
    },
    {
      "cell_type": "code",
      "execution_count": null,
      "metadata": {
        "id": "cg0hDrc52TQW"
      },
      "outputs": [],
      "source": [
        "import io"
      ]
    },
    {
      "cell_type": "code",
      "source": [
        "with open('message.txt', 'w') as writefile:\n",
        "  message = input(\"what do you want to write to the message? \")"
      ],
      "metadata": {
        "colab": {
          "base_uri": "https://localhost:8080/"
        },
        "id": "PcIhlNyw2nX2",
        "outputId": "0259f647-f0a3-499b-db17-8da39a84a3b7"
      },
      "execution_count": null,
      "outputs": [
        {
          "name": "stdout",
          "output_type": "stream",
          "text": [
            "what do you want to write to the message? Have a nice day!\n"
          ]
        }
      ]
    },
    {
      "cell_type": "code",
      "source": [
        "print(message)"
      ],
      "metadata": {
        "id": "etBg1kLA3ap3",
        "outputId": "4fb8d4f2-bbf3-49d8-ec7e-a24bf48087e7",
        "colab": {
          "base_uri": "https://localhost:8080/"
        }
      },
      "execution_count": null,
      "outputs": [
        {
          "output_type": "stream",
          "name": "stdout",
          "text": [
            "Have a nice day!\n"
          ]
        }
      ]
    }
  ]
}